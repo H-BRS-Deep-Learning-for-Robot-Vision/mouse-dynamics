{
 "cells": [
  {
   "cell_type": "code",
   "execution_count": 4,
   "metadata": {},
   "outputs": [],
   "source": [
    "from sklearn import datasets\n",
    "from sklearn.model_selection import train_test_split\n",
    "from sklearn.ensemble import RandomForestClassifier\n",
    "from sklearn import metrics\n",
    "import pandas as pd\n",
    "from os import listdir\n",
    "from os.path import isfile, join\n",
    "import glob\n",
    "import re\n",
    "import numpy as np\n",
    "from dateutil import parser\n",
    "import matplotlib.pyplot as plt"
   ]
  },
  {
   "cell_type": "code",
   "execution_count": 5,
   "metadata": {},
   "outputs": [],
   "source": [
    "user_path = 'DLRV_Dataset/user_df_final_normalized_Marvin'\n",
    "actions = ['scroll','click','move']\n",
    "scroll = pd.DataFrame()\n",
    "move = pd.DataFrame()\n",
    "click = pd.DataFrame()\n",
    "\n",
    "for action in actions:\n",
    "    path = listdir(user_path+'/'+action)\n",
    "    for file in path:\n",
    "        df = pd.read_pickle(user_path+'/'+action+'/'+file)\n",
    "        if action == 'click':\n",
    "            click = pd.concat([click,df])\n",
    "        if action == 'move':\n",
    "            move = pd.concat([move,df])\n",
    "        if action == 'scroll':\n",
    "            scroll = pd.concat([scroll,df])"
   ]
  },
  {
   "cell_type": "code",
   "execution_count": 6,
   "metadata": {},
   "outputs": [
    {
     "name": "stdout",
     "output_type": "stream",
     "text": [
      "<class 'pandas.core.frame.DataFrame'>\n",
      "Int64Index: 16990 entries, 7 to 105\n",
      "Data columns (total 7 columns):\n",
      " #   Column             Non-Null Count  Dtype              \n",
      "---  ------             --------------  -----              \n",
      " 0   time               16990 non-null  datetime64[ns, UTC]\n",
      " 1   token              16990 non-null  object             \n",
      " 2   global_position_x  16990 non-null  int64              \n",
      " 3   global_position_y  16990 non-null  int64              \n",
      " 4   dt                 16990 non-null  timedelta64[ns]    \n",
      " 5   dx                 16988 non-null  float64            \n",
      " 6   dy                 16988 non-null  float64            \n",
      "dtypes: datetime64[ns, UTC](1), float64(2), int64(2), object(1), timedelta64[ns](1)\n",
      "memory usage: 1.0+ MB\n",
      "<class 'pandas.core.frame.DataFrame'>\n",
      "Int64Index: 5305083 entries, 1 to 10649\n",
      "Data columns (total 7 columns):\n",
      " #   Column             Dtype              \n",
      "---  ------             -----              \n",
      " 0   time               datetime64[ns, UTC]\n",
      " 1   token              object             \n",
      " 2   global_position_x  int64              \n",
      " 3   global_position_y  int64              \n",
      " 4   dt                 timedelta64[ns]    \n",
      " 5   dx                 float64            \n",
      " 6   dy                 float64            \n",
      "dtypes: datetime64[ns, UTC](1), float64(2), int64(2), object(1), timedelta64[ns](1)\n",
      "memory usage: 323.8+ MB\n",
      "<class 'pandas.core.frame.DataFrame'>\n",
      "Int64Index: 988036 entries, 1 to 299\n",
      "Data columns (total 4 columns):\n",
      " #   Column    Non-Null Count   Dtype              \n",
      "---  ------    --------------   -----              \n",
      " 0   time      988036 non-null  datetime64[ns, UTC]\n",
      " 1   token     988036 non-null  object             \n",
      " 2   position  988036 non-null  float64            \n",
      " 3   dt        988036 non-null  timedelta64[ns]    \n",
      "dtypes: datetime64[ns, UTC](1), float64(1), object(1), timedelta64[ns](1)\n",
      "memory usage: 37.7+ MB\n"
     ]
    }
   ],
   "source": [
    "click.info()\n",
    "move.info()\n",
    "scroll.info()"
   ]
  },
  {
   "cell_type": "code",
   "execution_count": 13,
   "metadata": {},
   "outputs": [
    {
     "name": "stdout",
     "output_type": "stream",
     "text": [
      "<class 'pandas.core.frame.DataFrame'>\n",
      "Int64Index: 5305083 entries, 1 to 10649\n",
      "Data columns (total 1 columns):\n",
      " #   Column  Dtype \n",
      "---  ------  ----- \n",
      " 0   token   object\n",
      "dtypes: object(1)\n",
      "memory usage: 80.9+ MB\n",
      "<class 'pandas.core.frame.DataFrame'>\n",
      "Int64Index: 5305083 entries, 1 to 10649\n",
      "Data columns (total 2 columns):\n",
      " #   Column  Dtype  \n",
      "---  ------  -----  \n",
      " 0   dx      float64\n",
      " 1   dy      float64\n",
      "dtypes: float64(2)\n",
      "memory usage: 121.4 MB\n"
     ]
    },
    {
     "name": "stderr",
     "output_type": "stream",
     "text": [
      "/tmp/ipykernel_6090/2986033909.py:15: DataConversionWarning: A column-vector y was passed when a 1d array was expected. Please change the shape of y to (n_samples,), for example using ravel().\n",
      "  clf.fit(X_train,y_train)\n"
     ]
    },
    {
     "name": "stdout",
     "output_type": "stream",
     "text": [
      "Accuracy: 0.9806292706680699\n"
     ]
    }
   ],
   "source": [
    "#Split into data (X) and labels (Y))\n",
    "data = move[['dx','dy','token']].dropna()\n",
    "X_move = data[['dx','dy']]\n",
    "Y_move = data[['token']]\n",
    "Y_move.info()\n",
    "X_move.info()\n",
    "\n",
    "#Create train and test sets\n",
    "X_train, X_test, y_train, y_test = train_test_split(X_move, Y_move, test_size=0.3) # 70% training and 30% test\n",
    "\n",
    "#Create a Gaussian Classifier\n",
    "clf=RandomForestClassifier(n_estimators=15)\n",
    "\n",
    "#Train the model using the training sets y_pred=clf.predict(X_test)\n",
    "clf.fit(X_train,y_train)\n",
    "\n",
    "y_pred=clf.predict(X_test)\n",
    "\n",
    "# Model Accuracy, how often is the classifier correct?\n",
    "print(\"Accuracy:\",metrics.accuracy_score(y_test, y_pred))"
   ]
  },
  {
   "cell_type": "code",
   "execution_count": 14,
   "metadata": {},
   "outputs": [
    {
     "name": "stdout",
     "output_type": "stream",
     "text": [
      "<class 'pandas.core.frame.DataFrame'>\n",
      "Int64Index: 16988 entries, 7 to 105\n",
      "Data columns (total 1 columns):\n",
      " #   Column  Non-Null Count  Dtype \n",
      "---  ------  --------------  ----- \n",
      " 0   token   16988 non-null  object\n",
      "dtypes: object(1)\n",
      "memory usage: 265.4+ KB\n",
      "<class 'pandas.core.frame.DataFrame'>\n",
      "Int64Index: 16988 entries, 7 to 105\n",
      "Data columns (total 2 columns):\n",
      " #   Column  Non-Null Count  Dtype  \n",
      "---  ------  --------------  -----  \n",
      " 0   dx      16988 non-null  float64\n",
      " 1   dy      16988 non-null  float64\n",
      "dtypes: float64(2)\n",
      "memory usage: 398.2 KB\n"
     ]
    },
    {
     "name": "stderr",
     "output_type": "stream",
     "text": [
      "/tmp/ipykernel_6090/3791201140.py:15: DataConversionWarning: A column-vector y was passed when a 1d array was expected. Please change the shape of y to (n_samples,), for example using ravel().\n",
      "  clf.fit(X_train,y_train)\n"
     ]
    },
    {
     "name": "stdout",
     "output_type": "stream",
     "text": [
      "Accuracy: 0.11967824210319795\n"
     ]
    }
   ],
   "source": [
    "#Split into data (X) and labels (Y))\n",
    "data = click[['dx','dy','token']].dropna()\n",
    "X_click = data[['dx','dy']]\n",
    "Y_click = data[['token']]\n",
    "Y_click.info()\n",
    "X_click.info()\n",
    "\n",
    "#Create train and test sets\n",
    "X_train, X_test, y_train, y_test = train_test_split(X_click, Y_click, test_size=0.3) # 70% training and 30% test\n",
    "\n",
    "#Create a Gaussian Classifier\n",
    "clf=RandomForestClassifier(n_estimators=15)\n",
    "\n",
    "#Train the model using the training sets y_pred=clf.predict(X_test)\n",
    "clf.fit(X_train,y_train)\n",
    "\n",
    "y_pred=clf.predict(X_test)\n",
    "\n",
    "# Model Accuracy, how often is the classifier correct?\n",
    "print(\"Accuracy:\",metrics.accuracy_score(y_test, y_pred))"
   ]
  },
  {
   "cell_type": "code",
   "execution_count": 15,
   "metadata": {},
   "outputs": [
    {
     "name": "stdout",
     "output_type": "stream",
     "text": [
      "<class 'pandas.core.frame.DataFrame'>\n",
      "Int64Index: 988036 entries, 1 to 299\n",
      "Data columns (total 1 columns):\n",
      " #   Column  Non-Null Count   Dtype \n",
      "---  ------  --------------   ----- \n",
      " 0   token   988036 non-null  object\n",
      "dtypes: object(1)\n",
      "memory usage: 15.1+ MB\n",
      "<class 'pandas.core.frame.DataFrame'>\n",
      "Int64Index: 988036 entries, 1 to 299\n",
      "Data columns (total 1 columns):\n",
      " #   Column    Non-Null Count   Dtype  \n",
      "---  ------    --------------   -----  \n",
      " 0   position  988036 non-null  float64\n",
      "dtypes: float64(1)\n",
      "memory usage: 15.1 MB\n"
     ]
    },
    {
     "name": "stderr",
     "output_type": "stream",
     "text": [
      "/tmp/ipykernel_6090/1768248246.py:15: DataConversionWarning: A column-vector y was passed when a 1d array was expected. Please change the shape of y to (n_samples,), for example using ravel().\n",
      "  clf.fit(X_train,y_train)\n"
     ]
    },
    {
     "name": "stdout",
     "output_type": "stream",
     "text": [
      "Accuracy: 0.7896805449190483\n"
     ]
    }
   ],
   "source": [
    "#Split into data (X) and labels (Y))\n",
    "data = scroll[['position','token']].dropna()\n",
    "X_scroll = data[['position']]\n",
    "Y_scroll = data[['token']]\n",
    "Y_scroll.info()\n",
    "X_scroll.info()\n",
    "\n",
    "#Create train and test sets\n",
    "X_train, X_test, y_train, y_test = train_test_split(X_scroll, Y_scroll, test_size=0.3) # 70% training and 30% test\n",
    "\n",
    "#Create a Gaussian Classifier\n",
    "clf=RandomForestClassifier(n_estimators=15)\n",
    "\n",
    "#Train the model using the training sets y_pred=clf.predict(X_test)\n",
    "clf.fit(X_train,y_train)\n",
    "\n",
    "y_pred=clf.predict(X_test)\n",
    "\n",
    "# Model Accuracy, how often is the classifier correct?\n",
    "print(\"Accuracy:\",metrics.accuracy_score(y_test, y_pred))"
   ]
  },
  {
   "cell_type": "code",
   "execution_count": 12,
   "metadata": {},
   "outputs": [
    {
     "name": "stdout",
     "output_type": "stream",
     "text": [
      "['tQdQx5jytb2tdpAj' 'Wag5vHf6Nf4q4OSx' 'LbORFcceht0nuUhv' ...\n",
      " 'U7hH0Hs6TQJbiXRA' 'WretQ3SEOL7uzdK6' '77riuS0ykHsUPBjE']\n",
      "                  token\n",
      "8184   tQdQx5jytb2tdpAj\n",
      "7167   uXDRtiqNghad0DOV\n",
      "12893  LbORFcceht0nuUhv\n",
      "3306   RBYafniWSuCN8Fof\n",
      "23641  mfjyhGqExT31yca0\n",
      "...                 ...\n",
      "6304   tQdQx5jytb2tdpAj\n",
      "7858   5TvQCOwFyJkBKnis\n",
      "7019   U7hH0Hs6TQJbiXRA\n",
      "9394   WretQ3SEOL7uzdK6\n",
      "3403   77riuS0ykHsUPBjE\n",
      "\n",
      "[296411 rows x 1 columns]\n"
     ]
    }
   ],
   "source": [
    "print(y_pred)\n",
    "print(y_test)"
   ]
  }
 ],
 "metadata": {
  "kernelspec": {
   "display_name": "Python 3.9.12 ('MAS')",
   "language": "python",
   "name": "python3"
  },
  "language_info": {
   "codemirror_mode": {
    "name": "ipython",
    "version": 3
   },
   "file_extension": ".py",
   "mimetype": "text/x-python",
   "name": "python",
   "nbconvert_exporter": "python",
   "pygments_lexer": "ipython3",
   "version": "3.9.12"
  },
  "orig_nbformat": 4,
  "vscode": {
   "interpreter": {
    "hash": "dd96b66ce8071b25143c47db61b573c29eb1b6f057cc7016ccf8c9ff04e3a2bd"
   }
  }
 },
 "nbformat": 4,
 "nbformat_minor": 2
}
