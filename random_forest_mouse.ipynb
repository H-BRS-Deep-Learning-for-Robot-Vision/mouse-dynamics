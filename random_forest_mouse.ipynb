{
 "cells": [
  {
   "cell_type": "code",
   "execution_count": 10,
   "metadata": {},
   "outputs": [],
   "source": [
    "from sklearn import datasets\n",
    "from sklearn.model_selection import train_test_split\n",
    "from sklearn.ensemble import RandomForestClassifier\n",
    "from sklearn import metrics\n",
    "import pandas as pd\n",
    "from os import listdir\n",
    "from os.path import isfile, join\n",
    "import glob\n",
    "import re\n",
    "import numpy as np\n",
    "from dateutil import parser\n",
    "import matplotlib.pyplot as plt"
   ]
  },
  {
   "cell_type": "code",
   "execution_count": 50,
   "metadata": {},
   "outputs": [],
   "source": [
    "user_path = 'DLRV_Dataset/user_df_final_normalized'\n",
    "actions = ['scroll','click','move']\n",
    "scroll = pd.DataFrame()\n",
    "move = pd.DataFrame()\n",
    "click = pd.DataFrame()\n",
    "\n",
    "for action in actions:\n",
    "    path = listdir(user_path+'/'+action)\n",
    "    for file in path:\n",
    "        df = pd.read_pickle(user_path+'/'+action+'/'+file)\n",
    "        if action == 'click':\n",
    "            click = pd.concat([click,df])\n",
    "        elif action == 'move':\n",
    "            move = pd.concat([click,df])\n",
    "        elif action == 'scroll':\n",
    "            scroll = pd.concat([click,df])"
   ]
  },
  {
   "cell_type": "code",
   "execution_count": 68,
   "metadata": {},
   "outputs": [
    {
     "name": "stdout",
     "output_type": "stream",
     "text": [
      "<class 'pandas.core.frame.DataFrame'>\n",
      "Int64Index: 52956 entries, 4 to 35969\n",
      "Data columns (total 1 columns):\n",
      " #   Column  Non-Null Count  Dtype \n",
      "---  ------  --------------  ----- \n",
      " 0   token   52956 non-null  object\n",
      "dtypes: object(1)\n",
      "memory usage: 827.4+ KB\n",
      "<class 'pandas.core.frame.DataFrame'>\n",
      "Int64Index: 52956 entries, 4 to 35969\n",
      "Data columns (total 2 columns):\n",
      " #   Column  Non-Null Count  Dtype  \n",
      "---  ------  --------------  -----  \n",
      " 0   dx      52956 non-null  float64\n",
      " 1   dy      52956 non-null  float64\n",
      "dtypes: float64(2)\n",
      "memory usage: 1.2 MB\n"
     ]
    },
    {
     "name": "stderr",
     "output_type": "stream",
     "text": [
      "/tmp/ipykernel_55835/998393662.py:15: DataConversionWarning: A column-vector y was passed when a 1d array was expected. Please change the shape of y to (n_samples,), for example using ravel().\n",
      "  clf.fit(X_train,y_train)\n"
     ]
    },
    {
     "name": "stdout",
     "output_type": "stream",
     "text": [
      "Accuracy: 0.7130987599924467\n"
     ]
    }
   ],
   "source": [
    "#Split into data (X) and labels (Y))\n",
    "data = move[['dx','dy','token']].dropna()\n",
    "X_move = data[['dx','dy']]\n",
    "Y_move = data[['token']]\n",
    "Y_move.info()\n",
    "X_move.info()\n",
    "\n",
    "#Create train and test sets\n",
    "X_train, X_test, y_train, y_test = train_test_split(X_move, Y_move, test_size=0.3) # 70% training and 30% test\n",
    "\n",
    "#Create a Gaussian Classifier\n",
    "clf=RandomForestClassifier(n_estimators=100)\n",
    "\n",
    "#Train the model using the training sets y_pred=clf.predict(X_test)\n",
    "clf.fit(X_train,y_train)\n",
    "\n",
    "y_pred=clf.predict(X_test)\n",
    "\n",
    "# Model Accuracy, how often is the classifier correct?\n",
    "print(\"Accuracy:\",metrics.accuracy_score(y_test, y_pred))"
   ]
  },
  {
   "cell_type": "code",
   "execution_count": 69,
   "metadata": {},
   "outputs": [
    {
     "name": "stdout",
     "output_type": "stream",
     "text": [
      "<class 'pandas.core.frame.DataFrame'>\n",
      "Int64Index: 16988 entries, 4 to 336\n",
      "Data columns (total 1 columns):\n",
      " #   Column  Non-Null Count  Dtype \n",
      "---  ------  --------------  ----- \n",
      " 0   token   16988 non-null  object\n",
      "dtypes: object(1)\n",
      "memory usage: 265.4+ KB\n",
      "<class 'pandas.core.frame.DataFrame'>\n",
      "Int64Index: 16988 entries, 4 to 336\n",
      "Data columns (total 2 columns):\n",
      " #   Column  Non-Null Count  Dtype  \n",
      "---  ------  --------------  -----  \n",
      " 0   dx      16988 non-null  float64\n",
      " 1   dy      16988 non-null  float64\n",
      "dtypes: float64(2)\n",
      "memory usage: 398.2 KB\n"
     ]
    },
    {
     "name": "stderr",
     "output_type": "stream",
     "text": [
      "/tmp/ipykernel_55835/1000872436.py:15: DataConversionWarning: A column-vector y was passed when a 1d array was expected. Please change the shape of y to (n_samples,), for example using ravel().\n",
      "  clf.fit(X_train,y_train)\n"
     ]
    },
    {
     "name": "stdout",
     "output_type": "stream",
     "text": [
      "Accuracy: 0.11673533451049636\n"
     ]
    }
   ],
   "source": [
    "#Split into data (X) and labels (Y))\n",
    "data = click[['dx','dy','token']].dropna()\n",
    "X_click = data[['dx','dy']]\n",
    "Y_click = data[['token']]\n",
    "Y_click.info()\n",
    "X_click.info()\n",
    "\n",
    "#Create train and test sets\n",
    "X_train, X_test, y_train, y_test = train_test_split(X_click, Y_click, test_size=0.3) # 70% training and 30% test\n",
    "\n",
    "#Create a Gaussian Classifier\n",
    "clf=RandomForestClassifier(n_estimators=100)\n",
    "\n",
    "#Train the model using the training sets y_pred=clf.predict(X_test)\n",
    "clf.fit(X_train,y_train)\n",
    "\n",
    "y_pred=clf.predict(X_test)\n",
    "\n",
    "# Model Accuracy, how often is the classifier correct?\n",
    "print(\"Accuracy:\",metrics.accuracy_score(y_test, y_pred))"
   ]
  },
  {
   "cell_type": "code",
   "execution_count": 72,
   "metadata": {},
   "outputs": [
    {
     "name": "stdout",
     "output_type": "stream",
     "text": [
      "<class 'pandas.core.frame.DataFrame'>\n",
      "Int64Index: 14356 entries, 1 to 14357\n",
      "Data columns (total 1 columns):\n",
      " #   Column  Non-Null Count  Dtype \n",
      "---  ------  --------------  ----- \n",
      " 0   token   14356 non-null  object\n",
      "dtypes: object(1)\n",
      "memory usage: 224.3+ KB\n",
      "<class 'pandas.core.frame.DataFrame'>\n",
      "Int64Index: 14356 entries, 1 to 14357\n",
      "Data columns (total 1 columns):\n",
      " #   Column    Non-Null Count  Dtype  \n",
      "---  ------    --------------  -----  \n",
      " 0   position  14356 non-null  float64\n",
      "dtypes: float64(1)\n",
      "memory usage: 224.3 KB\n",
      "Accuracy: 1.0\n"
     ]
    },
    {
     "name": "stderr",
     "output_type": "stream",
     "text": [
      "/tmp/ipykernel_55835/2391079392.py:15: DataConversionWarning: A column-vector y was passed when a 1d array was expected. Please change the shape of y to (n_samples,), for example using ravel().\n",
      "  clf.fit(X_train,y_train)\n"
     ]
    }
   ],
   "source": [
    "#Split into data (X) and labels (Y))\n",
    "data = scroll[['position','token']].dropna()\n",
    "X_scroll = data[['position']]\n",
    "Y_scroll = data[['token']]\n",
    "Y_scroll.info()\n",
    "X_scroll.info()\n",
    "\n",
    "#Create train and test sets\n",
    "X_train, X_test, y_train, y_test = train_test_split(X_scroll, Y_scroll, test_size=0.3) # 70% training and 30% test\n",
    "\n",
    "#Create a Gaussian Classifier\n",
    "clf=RandomForestClassifier(n_estimators=100)\n",
    "\n",
    "#Train the model using the training sets y_pred=clf.predict(X_test)\n",
    "clf.fit(X_train,y_train)\n",
    "\n",
    "y_pred=clf.predict(X_test)\n",
    "\n",
    "# Model Accuracy, how often is the classifier correct?\n",
    "print(\"Accuracy:\",metrics.accuracy_score(y_test, y_pred))"
   ]
  }
 ],
 "metadata": {
  "kernelspec": {
   "display_name": "Python 3.8.8 ('base')",
   "language": "python",
   "name": "python3"
  },
  "language_info": {
   "codemirror_mode": {
    "name": "ipython",
    "version": 3
   },
   "file_extension": ".py",
   "mimetype": "text/x-python",
   "name": "python",
   "nbconvert_exporter": "python",
   "pygments_lexer": "ipython3",
   "version": "3.8.8"
  },
  "orig_nbformat": 4,
  "vscode": {
   "interpreter": {
    "hash": "1b15b47e994a45b2c1c9c2019b348cb81bbb68780db9285c808c045d049d064a"
   }
  }
 },
 "nbformat": 4,
 "nbformat_minor": 2
}
